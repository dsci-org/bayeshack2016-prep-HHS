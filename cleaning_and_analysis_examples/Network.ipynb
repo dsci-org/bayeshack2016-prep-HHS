{
 "cells": [
  {
   "cell_type": "code",
   "execution_count": 1,
   "metadata": {
    "collapsed": false
   },
   "outputs": [
    {
     "name": "stdout",
     "output_type": "stream",
     "text": [
      "Complete\n"
     ]
    }
   ],
   "source": [
    "## setup \n",
    "\n",
    "import pandas as pd\n",
    "import numpy as np\n",
    "import os\n",
    "import matplotlib.pyplot as plt\n",
    "import seaborn as sns\n",
    "\n",
    "\n",
    "#author : steeve laquitaine modified from everett wetchler\n",
    "#purpose Helpers functions to check dataset\n",
    "#Helper functions\n",
    "\n",
    "def percentify_axis(ax, which):\n",
    "    which = which.lower()\n",
    "    if which in ('x', 'both'):\n",
    "        ax.set_xticklabels(['%.0f%%' % (t*100) for t in ax.get_xticks()])\n",
    "    if which in ('y', 'both'):\n",
    "        ax.set_yticklabels(['%.0f%%' % (t*100) for t in ax.get_yticks()])\n",
    "\n",
    "color_idx = 0\n",
    "CYCLE_COLORS = sns.color_palette()\n",
    "def next_color():\n",
    "    global color_idx\n",
    "    c = CYCLE_COLORS[color_idx] \n",
    "    color_idx = (color_idx + 1) % len(CYCLE_COLORS)\n",
    "    return c\n",
    "\n",
    "def count_unique(s):\n",
    "    values = s.unique()\n",
    "    return sum(1 for v in values if pd.notnull(v))\n",
    "\n",
    "def missing_pct(s,N):\n",
    "    missing = N - s.count()\n",
    "    return missing * 100.0 / N\n",
    "\n",
    "def complete_pct(s,N):\n",
    "    return 100 - missing_pct(s,N)\n",
    "\n",
    "def summarize_completeness_uniqueness(df,N):\n",
    "    print '*** How complete is each feature? How many different values does it have? ***'\n",
    "    rows = []\n",
    "    for col in df.columns:\n",
    "        rows.append([col, '%.0f%%' % complete_pct(df[col],N), count_unique(df[col])])\n",
    "    dframe = pd.DataFrame(rows, columns=['Column Name', 'Complete (%)','Unique Values'])\n",
    "    pd.set_option('display.max_colwidth',999,'display.max_row',999)\n",
    "    return dframe\n",
    "\n",
    "def summarize_completeness_over_time(df, time_col, transpose=True):\n",
    "    print '*** Data completeness over time per column ***'\n",
    "    x = df.groupby(time_col).count()\n",
    "    x = x.div(df.groupby(time_col).size(), axis=0)\n",
    "    for col in x.columns:\n",
    "        x[col] = x[col].apply(lambda value: '%.0f%%' % (value * 100))\n",
    "    if transpose:\n",
    "        return x.T\n",
    "    pd.set_option('display.max_colwidth',999,'display.max_row',999)\n",
    "    return x\n",
    "\n",
    "def plot_top_hist(df, col, top_n=10, skip_below=.01):\n",
    "    '''Plot a histogram of a categorical dataframe column, limiting to the most popular.'''\n",
    "    counts = df[col].value_counts(True, ascending=True)\n",
    "    if counts.max() < skip_below:\n",
    "        print 'Skipping \"%s\" histogram -- most common value is < %.0f%% of all cases' % (col, skip_below*100)\n",
    "        return\n",
    "    fig, ax = plt.subplots(1)\n",
    "    explanation = ''\n",
    "    if len(counts) > top_n:\n",
    "        explanation = ' (top %d of %d)' % (top_n, len(counts))\n",
    "        counts = counts.iloc[-top_n:]\n",
    "    explanation += ' -- %.0f%% missing' % (missing_pct(df[col]))\n",
    "    counts.plot(kind='barh', ax=ax, color=next_color())\n",
    "    ax.set_title('Rows by \"%s\"%s' % (col, explanation))\n",
    "    ax.set_xticklabels(['%.0f%%' % (t*100) for t in ax.get_xticks()])\n",
    "\n",
    "%matplotlib inline\n",
    "\n",
    "# Useful colors to reference\n",
    "SNS_BLUE, SNS_GREEN, SNS_RED, SNS_PURPLE, SNS_YELLOW, SNS_CYAN = sns.color_palette()\n",
    "# sns.set_palette(sns.color_palette(\"cubehelix\", 8))\n",
    "pd.set_option('display.max_columns', 500)\n",
    "plt.rcParams.update({\n",
    "  'font.size': 14,\n",
    "  'axes.titlesize': 'x-large',\n",
    "  'axes.labelsize': 'large',\n",
    "  'xtick.labelsize': 'medium',\n",
    "  'ytick.labelsize': 'medium',\n",
    "  'legend.fancybox': True,\n",
    "  'legend.fontsize': 'medium',\n",
    "  'legend.frameon': True,\n",
    "  'legend.framealpha': 0.7,\n",
    "  'figure.figsize': ['9', '6'],\n",
    "})\n",
    "\n",
    "print \"Complete\""
   ]
  },
  {
   "cell_type": "code",
   "execution_count": 2,
   "metadata": {
    "collapsed": false
   },
   "outputs": [
    {
     "name": "stdout",
     "output_type": "stream",
     "text": [
      "Read 3822 rows 14 cols\n",
      "\n"
     ]
    },
    {
     "data": {
      "text/html": [
       "<div>\n",
       "<table border=\"1\" class=\"dataframe\">\n",
       "  <thead>\n",
       "    <tr style=\"text-align: right;\">\n",
       "      <th></th>\n",
       "      <th>BusinessYear</th>\n",
       "      <th>StateCode</th>\n",
       "      <th>IssuerId</th>\n",
       "      <th>SourceName</th>\n",
       "      <th>VersionNum</th>\n",
       "      <th>ImportDate</th>\n",
       "      <th>IssuerId2</th>\n",
       "      <th>StateCode2</th>\n",
       "      <th>NetworkName</th>\n",
       "      <th>NetworkId</th>\n",
       "      <th>NetworkURL</th>\n",
       "      <th>RowNumber</th>\n",
       "      <th>MarketCoverage</th>\n",
       "      <th>DentalOnlyPlan</th>\n",
       "    </tr>\n",
       "  </thead>\n",
       "  <tbody>\n",
       "    <tr>\n",
       "      <th>0</th>\n",
       "      <td>2014</td>\n",
       "      <td>AK</td>\n",
       "      <td>21989</td>\n",
       "      <td>HIOS</td>\n",
       "      <td>6</td>\n",
       "      <td>2014-03-19 07:06:49</td>\n",
       "      <td>21989</td>\n",
       "      <td>AK</td>\n",
       "      <td>ODS Premier</td>\n",
       "      <td>AKN001</td>\n",
       "      <td>https://www.modahealth.com/ProviderSearch/face...</td>\n",
       "      <td>13</td>\n",
       "      <td>NaN</td>\n",
       "      <td>NaN</td>\n",
       "    </tr>\n",
       "    <tr>\n",
       "      <th>1</th>\n",
       "      <td>2014</td>\n",
       "      <td>AK</td>\n",
       "      <td>38344</td>\n",
       "      <td>HIOS</td>\n",
       "      <td>6</td>\n",
       "      <td>2013-08-28 08:15:53</td>\n",
       "      <td>38344</td>\n",
       "      <td>AK</td>\n",
       "      <td>HeritagePlus</td>\n",
       "      <td>AKN001</td>\n",
       "      <td>https://www.premera.com/wa/visitor/</td>\n",
       "      <td>13</td>\n",
       "      <td>NaN</td>\n",
       "      <td>NaN</td>\n",
       "    </tr>\n",
       "    <tr>\n",
       "      <th>2</th>\n",
       "      <td>2014</td>\n",
       "      <td>AK</td>\n",
       "      <td>38536</td>\n",
       "      <td>HIOS</td>\n",
       "      <td>2</td>\n",
       "      <td>2013-08-01 12:48:00</td>\n",
       "      <td>38536</td>\n",
       "      <td>AK</td>\n",
       "      <td>Lincoln Dental Connect</td>\n",
       "      <td>AKN001</td>\n",
       "      <td>http://lfg.go2dental.com/member/dental_search/...</td>\n",
       "      <td>13</td>\n",
       "      <td>NaN</td>\n",
       "      <td>NaN</td>\n",
       "    </tr>\n",
       "    <tr>\n",
       "      <th>3</th>\n",
       "      <td>2014</td>\n",
       "      <td>AK</td>\n",
       "      <td>42507</td>\n",
       "      <td>HIOS</td>\n",
       "      <td>3</td>\n",
       "      <td>2013-09-02 11:39:25</td>\n",
       "      <td>42507</td>\n",
       "      <td>AK</td>\n",
       "      <td>DentalGuard Preferred</td>\n",
       "      <td>AKN001</td>\n",
       "      <td>https://www.guardiananytime.com/fpapp/FPWeb/de...</td>\n",
       "      <td>13</td>\n",
       "      <td>NaN</td>\n",
       "      <td>NaN</td>\n",
       "    </tr>\n",
       "    <tr>\n",
       "      <th>4</th>\n",
       "      <td>2014</td>\n",
       "      <td>AK</td>\n",
       "      <td>73836</td>\n",
       "      <td>HIOS</td>\n",
       "      <td>6</td>\n",
       "      <td>2014-04-18 11:49:29</td>\n",
       "      <td>73836</td>\n",
       "      <td>AK</td>\n",
       "      <td>Moda Plus AK Regional</td>\n",
       "      <td>AKN001</td>\n",
       "      <td>https://www.modahealth.com/ProviderSearch/face...</td>\n",
       "      <td>13</td>\n",
       "      <td>NaN</td>\n",
       "      <td>NaN</td>\n",
       "    </tr>\n",
       "  </tbody>\n",
       "</table>\n",
       "</div>"
      ],
      "text/plain": [
       "   BusinessYear StateCode  IssuerId SourceName  VersionNum  \\\n",
       "0          2014        AK     21989       HIOS           6   \n",
       "1          2014        AK     38344       HIOS           6   \n",
       "2          2014        AK     38536       HIOS           2   \n",
       "3          2014        AK     42507       HIOS           3   \n",
       "4          2014        AK     73836       HIOS           6   \n",
       "\n",
       "            ImportDate  IssuerId2 StateCode2             NetworkName  \\\n",
       "0  2014-03-19 07:06:49      21989         AK             ODS Premier   \n",
       "1  2013-08-28 08:15:53      38344         AK            HeritagePlus   \n",
       "2  2013-08-01 12:48:00      38536         AK  Lincoln Dental Connect   \n",
       "3  2013-09-02 11:39:25      42507         AK   DentalGuard Preferred   \n",
       "4  2014-04-18 11:49:29      73836         AK   Moda Plus AK Regional   \n",
       "\n",
       "  NetworkId                                         NetworkURL  RowNumber  \\\n",
       "0    AKN001  https://www.modahealth.com/ProviderSearch/face...         13   \n",
       "1    AKN001                https://www.premera.com/wa/visitor/         13   \n",
       "2    AKN001  http://lfg.go2dental.com/member/dental_search/...         13   \n",
       "3    AKN001  https://www.guardiananytime.com/fpapp/FPWeb/de...         13   \n",
       "4    AKN001  https://www.modahealth.com/ProviderSearch/face...         13   \n",
       "\n",
       "  MarketCoverage DentalOnlyPlan  \n",
       "0            NaN            NaN  \n",
       "1            NaN            NaN  \n",
       "2            NaN            NaN  \n",
       "3            NaN            NaN  \n",
       "4            NaN            NaN  "
      ]
     },
     "execution_count": 2,
     "metadata": {},
     "output_type": "execute_result"
    }
   ],
   "source": [
    "## import data \n",
    "infile = \"/Users/alysonkane/Desktop/HHS/health-insurance-marketplace/Network.csv\"\n",
    "\n",
    "df = pd.read_csv(infile)\n",
    "N = len(df)\n",
    "print 'Read %d rows %d cols\\n' % df.shape \n",
    "df.head(5)"
   ]
  },
  {
   "cell_type": "code",
   "execution_count": 3,
   "metadata": {
    "collapsed": false
   },
   "outputs": [
    {
     "name": "stdout",
     "output_type": "stream",
     "text": [
      "100 % of the rows match between \"StateCode\" and \"StateCode2\" so \"StateCode2\" was removed.\n",
      "100 % of the rows match between \"IssuerId\" and \"IssuerId2\" so \"IssuerId2\" was removed.\n",
      "Read 3822 rows 12 cols\n",
      "\n"
     ]
    }
   ],
   "source": [
    "## remove duplicated fields \n",
    "df_cleaned = df\n",
    "print sum(df_cleaned['StateCode']==df_cleaned['StateCode2'])*100/N,'% of the rows match between \"StateCode\" and \"StateCode2\" so \"StateCode2\" was removed.'\n",
    "df_cleaned = df_cleaned.drop('StateCode2',1)\n",
    "print sum(df_cleaned['IssuerId']==df_cleaned['IssuerId2'])*100/N,'% of the rows match between \"IssuerId\" and \"IssuerId2\" so \"IssuerId2\" was removed.'\n",
    "df_cleaned = df_cleaned.drop('IssuerId2',1)\n",
    "print 'Read %d rows %d cols\\n' % df_cleaned.shape "
   ]
  },
  {
   "cell_type": "code",
   "execution_count": 4,
   "metadata": {
    "collapsed": false
   },
   "outputs": [
    {
     "name": "stdout",
     "output_type": "stream",
     "text": [
      "*** How complete is each feature? How many different values does it have? ***\n"
     ]
    },
    {
     "data": {
      "text/html": [
       "<div>\n",
       "<table border=\"1\" class=\"dataframe\">\n",
       "  <thead>\n",
       "    <tr style=\"text-align: right;\">\n",
       "      <th></th>\n",
       "      <th>Column Name</th>\n",
       "      <th>Complete (%)</th>\n",
       "      <th>Unique Values</th>\n",
       "    </tr>\n",
       "  </thead>\n",
       "  <tbody>\n",
       "    <tr>\n",
       "      <th>0</th>\n",
       "      <td>BusinessYear</td>\n",
       "      <td>100%</td>\n",
       "      <td>3</td>\n",
       "    </tr>\n",
       "    <tr>\n",
       "      <th>1</th>\n",
       "      <td>StateCode</td>\n",
       "      <td>100%</td>\n",
       "      <td>39</td>\n",
       "    </tr>\n",
       "    <tr>\n",
       "      <th>2</th>\n",
       "      <td>IssuerId</td>\n",
       "      <td>100%</td>\n",
       "      <td>908</td>\n",
       "    </tr>\n",
       "    <tr>\n",
       "      <th>3</th>\n",
       "      <td>SourceName</td>\n",
       "      <td>100%</td>\n",
       "      <td>3</td>\n",
       "    </tr>\n",
       "    <tr>\n",
       "      <th>4</th>\n",
       "      <td>VersionNum</td>\n",
       "      <td>100%</td>\n",
       "      <td>23</td>\n",
       "    </tr>\n",
       "    <tr>\n",
       "      <th>5</th>\n",
       "      <td>ImportDate</td>\n",
       "      <td>100%</td>\n",
       "      <td>271</td>\n",
       "    </tr>\n",
       "    <tr>\n",
       "      <th>6</th>\n",
       "      <td>NetworkName</td>\n",
       "      <td>100%</td>\n",
       "      <td>1142</td>\n",
       "    </tr>\n",
       "    <tr>\n",
       "      <th>7</th>\n",
       "      <td>NetworkId</td>\n",
       "      <td>100%</td>\n",
       "      <td>319</td>\n",
       "    </tr>\n",
       "    <tr>\n",
       "      <th>8</th>\n",
       "      <td>NetworkURL</td>\n",
       "      <td>100%</td>\n",
       "      <td>989</td>\n",
       "    </tr>\n",
       "    <tr>\n",
       "      <th>9</th>\n",
       "      <td>RowNumber</td>\n",
       "      <td>100%</td>\n",
       "      <td>23</td>\n",
       "    </tr>\n",
       "    <tr>\n",
       "      <th>10</th>\n",
       "      <td>MarketCoverage</td>\n",
       "      <td>49%</td>\n",
       "      <td>2</td>\n",
       "    </tr>\n",
       "    <tr>\n",
       "      <th>11</th>\n",
       "      <td>DentalOnlyPlan</td>\n",
       "      <td>49%</td>\n",
       "      <td>2</td>\n",
       "    </tr>\n",
       "  </tbody>\n",
       "</table>\n",
       "</div>"
      ],
      "text/plain": [
       "       Column Name Complete (%)  Unique Values\n",
       "0     BusinessYear         100%              3\n",
       "1        StateCode         100%             39\n",
       "2         IssuerId         100%            908\n",
       "3       SourceName         100%              3\n",
       "4       VersionNum         100%             23\n",
       "5       ImportDate         100%            271\n",
       "6      NetworkName         100%           1142\n",
       "7        NetworkId         100%            319\n",
       "8       NetworkURL         100%            989\n",
       "9        RowNumber         100%             23\n",
       "10  MarketCoverage          49%              2\n",
       "11  DentalOnlyPlan          49%              2"
      ]
     },
     "execution_count": 4,
     "metadata": {},
     "output_type": "execute_result"
    }
   ],
   "source": [
    "## summarize data \n",
    "summarize_completeness_uniqueness(df_cleaned,N)"
   ]
  },
  {
   "cell_type": "code",
   "execution_count": 5,
   "metadata": {
    "collapsed": false
   },
   "outputs": [
    {
     "name": "stdout",
     "output_type": "stream",
     "text": [
      "*** Are there any values outside their expected range ? ***\n"
     ]
    },
    {
     "data": {
      "text/html": [
       "<div>\n",
       "<table border=\"1\" class=\"dataframe\">\n",
       "  <thead>\n",
       "    <tr style=\"text-align: right;\">\n",
       "      <th></th>\n",
       "      <th>Column Name</th>\n",
       "      <th>Valid value(%)</th>\n",
       "      <th>Unique Valid Values</th>\n",
       "    </tr>\n",
       "  </thead>\n",
       "  <tbody>\n",
       "    <tr>\n",
       "      <th>0</th>\n",
       "      <td>BusinessYear</td>\n",
       "      <td>100%</td>\n",
       "      <td>3822</td>\n",
       "    </tr>\n",
       "    <tr>\n",
       "      <th>1</th>\n",
       "      <td>StateCode</td>\n",
       "      <td>100%</td>\n",
       "      <td>3822</td>\n",
       "    </tr>\n",
       "    <tr>\n",
       "      <th>2</th>\n",
       "      <td>IssuerId</td>\n",
       "      <td>100%</td>\n",
       "      <td>3822</td>\n",
       "    </tr>\n",
       "    <tr>\n",
       "      <th>3</th>\n",
       "      <td>SourceName</td>\n",
       "      <td>100%</td>\n",
       "      <td>3822</td>\n",
       "    </tr>\n",
       "  </tbody>\n",
       "</table>\n",
       "</div>"
      ],
      "text/plain": [
       "    Column Name Valid value(%)  Unique Valid Values\n",
       "0  BusinessYear           100%                 3822\n",
       "1     StateCode           100%                 3822\n",
       "2      IssuerId           100%                 3822\n",
       "3    SourceName           100%                 3822"
      ]
     },
     "execution_count": 5,
     "metadata": {},
     "output_type": "execute_result"
    }
   ],
   "source": [
    "## variables with expected values\n",
    "VarWithExpecVals = ['BusinessYear','StateCode','IssuerId','SourceName']\n",
    "\n",
    "## expected values\n",
    "expectedVals = {}\n",
    "expectedVals[\"BusinessYear\"] = [2014,2015,2016]\n",
    "expectedVals[\"StateCode\"] = ['AK','AL','AZ','AR','CA','CO','CT','DE','FL','GA','HI','ID','IL','IN','IA','KS','KY','LA','ME','MD','MA','MI','MN','MS','MO','MT','NE','NV','NH','NJ','NM','NY','NC','ND','OH','OK','OR','PA','RI','SC','SD','TN','TX','UT','VT','VA','WA','WV','WI','WY']\n",
    "expectedVals[\"IssuerId\"] = np.arange(99999)\n",
    "expectedVals[\"SourceName\"] = ['HIOS','SERFF','OPM']\n",
    "\n",
    "print '*** Are there any values outside their expected range ? ***'\n",
    "rows = []\n",
    "\n",
    "#Check validity\n",
    "for col in VarWithExpecVals:    \n",
    "    #check among existing values    \n",
    "    s = pd.Series(list(df[col]))            \n",
    "    s_exist = s[pd.notnull(s)]\n",
    "    numValid = np.sum(s_exist.isin(expectedVals[col]))    \n",
    "    percValid = numValid*100/len(s_exist)\n",
    "    rows.append([col,'%.0f%%' % percValid,numValid])\n",
    "tab = pd.DataFrame(rows,columns=['Column Name', 'Valid value(%)','Unique Valid Values'])\n",
    "\n",
    "#fill up cleaned dataset\n",
    "for col in VarWithExpecVals:    \n",
    "    df_cleaned[col] = df[col]\n",
    "    \n",
    "tab    "
   ]
  },
  {
   "cell_type": "markdown",
   "metadata": {},
   "source": [
    "#### Count of Networks in each state "
   ]
  },
  {
   "cell_type": "code",
   "execution_count": 6,
   "metadata": {
    "collapsed": false
   },
   "outputs": [
    {
     "name": "stdout",
     "output_type": "stream",
     "text": [
      "The dataset contains plans for 39 of the 50 US states\n"
     ]
    },
    {
     "name": "stderr",
     "output_type": "stream",
     "text": [
      "/Users/alysonkane/anaconda/lib/python2.7/site-packages/ipykernel/__main__.py:3: FutureWarning: sort(columns=....) is deprecated, use sort_values(by=.....)\n",
      "  app.launch_new_instance()\n"
     ]
    },
    {
     "data": {
      "image/png": "[encoded data removed]",
      "text/plain": [
       "<matplotlib.figure.Figure at 0x11305e550>"
      ]
     },
     "metadata": {},
     "output_type": "display_data"
    }
   ],
   "source": [
    "print 'The dataset contains plans for',len(np.unique(df_cleaned['StateCode'])), 'of the 50 US states'\n",
    "a = df_cleaned.groupby('StateCode').agg(['count']);\n",
    "a['BusinessYear'].sort('count').plot(kind='bar',color='k',legend=False);\n",
    "plt.xlabel('States');\n",
    "plt.ylabel('Number of Plans through 2014-2015');"
   ]
  },
  {
   "cell_type": "code",
   "execution_count": 7,
   "metadata": {
    "collapsed": true
   },
   "outputs": [],
   "source": [
    "df_cleaned.to_csv('/Users/alysonkane/Desktop/HHS/health-insurance-marketplace/Network_clean.csv')"
   ]
  },
  {
   "cell_type": "code",
   "execution_count": null,
   "metadata": {
    "collapsed": true
   },
   "outputs": [],
   "source": []
  }
 ],
 "metadata": {
  "kernelspec": {
   "display_name": "Python 2",
   "language": "python",
   "name": "python2"
  },
  "language_info": {
   "codemirror_mode": {
    "name": "ipython",
    "version": 2
   },
   "file_extension": ".py",
   "mimetype": "text/x-python",
   "name": "python",
   "nbconvert_exporter": "python",
   "pygments_lexer": "ipython2",
   "version": "2.7.11"
  }
 },
 "nbformat": 4,
 "nbformat_minor": 0
}
